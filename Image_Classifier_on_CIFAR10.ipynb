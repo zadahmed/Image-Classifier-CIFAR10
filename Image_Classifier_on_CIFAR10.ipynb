{
 "cells": [
  {
   "cell_type": "code",
   "execution_count": 1,
   "metadata": {
    "colab": {
     "base_uri": "https://localhost:8080/",
     "height": 68
    },
    "colab_type": "code",
    "id": "AttYkjc36qAQ",
    "outputId": "e0759584-1c0e-4587-958a-41cebd573063"
   },
   "outputs": [
    {
     "name": "stderr",
     "output_type": "stream",
     "text": [
      "Using TensorFlow backend.\n"
     ]
    },
    {
     "name": "stdout",
     "output_type": "stream",
     "text": [
      "(50000, 32, 32, 3)\n",
      "50000\n",
      "10000\n"
     ]
    }
   ],
   "source": [
    "import keras\n",
    "from keras.datasets import cifar10\n",
    "from keras.layers import Conv2D , MaxPooling2D , Activation ,  Flatten , Dense , Dropout\n",
    "from keras.models import Sequential \n",
    "from keras.preprocessing.image import ImageDataGenerator\n",
    "from keras.utils import to_categorical\n",
    "from keras.optimizers import SGD , RMSprop\n",
    "from keras.callbacks import ModelCheckpoint , EarlyStopping , ReduceLROnPlateau\n",
    "import numpy as np\n",
    "import os\n",
    "\n",
    "batch_size = 32\n",
    "epochs = 100\n",
    "\n",
    "(x_train , y_train) , (x_test , y_test) = cifar10.load_data()\n",
    "\n",
    "print(x_train.shape)\n",
    "print(x_train.shape[0])\n",
    "print(x_test.shape[0])\n",
    "\n"
   ]
  },
  {
   "cell_type": "code",
   "execution_count": 2,
   "metadata": {
    "colab": {
     "base_uri": "https://localhost:8080/",
     "height": 251
    },
    "colab_type": "code",
    "id": "wuVGOPoQ7oBK",
    "outputId": "380be536-68ef-4c92-d612-13890e6d0ab8"
   },
   "outputs": [
    {
     "name": "stdout",
     "output_type": "stream",
     "text": [
      "50000\n",
      "10\n",
      "(32, 32, 3)\n"
     ]
    }
   ],
   "source": [
    "x_train = x_train.astype('float32')\n",
    "x_test = x_test.astype('float32')\n",
    "x_train /= 255\n",
    "x_test /= 255\n",
    "\n",
    "\n",
    "\n",
    "y_train = to_categorical(y_train)\n",
    "y_test = to_categorical(y_test)\n",
    "\n",
    "print(y_train.shape[0])\n",
    "\n",
    "num_classes = y_train.shape[1]\n",
    "print(num_classes)\n",
    "\n",
    "input_shape = x_train[0].shape\n",
    "print(input_shape)"
   ]
  },
  {
   "cell_type": "code",
   "execution_count": 3,
   "metadata": {
    "colab": {},
    "colab_type": "code",
    "id": "0B1kYlLS9Bvp"
   },
   "outputs": [
    {
     "name": "stdout",
     "output_type": "stream",
     "text": [
      "WARNING:tensorflow:From C:\\ProgramData\\Anaconda3\\lib\\site-packages\\tensorflow\\python\\framework\\op_def_library.py:263: colocate_with (from tensorflow.python.framework.ops) is deprecated and will be removed in a future version.\n",
      "Instructions for updating:\n",
      "Colocations handled automatically by placer.\n",
      "WARNING:tensorflow:From C:\\ProgramData\\Anaconda3\\lib\\site-packages\\keras\\backend\\tensorflow_backend.py:3680: calling dropout (from tensorflow.python.ops.nn_ops) with keep_prob is deprecated and will be removed in a future version.\n",
      "Instructions for updating:\n",
      "Please use `rate` instead of `keep_prob`. Rate should be set to `rate = 1 - keep_prob`.\n",
      "Model: \"sequential_1\"\n",
      "_________________________________________________________________\n",
      "Layer (type)                 Output Shape              Param #   \n",
      "=================================================================\n",
      "conv2d_1 (Conv2D)            (None, 32, 32, 32)        896       \n",
      "_________________________________________________________________\n",
      "conv2d_2 (Conv2D)            (None, 30, 30, 32)        9248      \n",
      "_________________________________________________________________\n",
      "max_pooling2d_1 (MaxPooling2 (None, 15, 15, 32)        0         \n",
      "_________________________________________________________________\n",
      "dropout_1 (Dropout)          (None, 15, 15, 32)        0         \n",
      "_________________________________________________________________\n",
      "conv2d_3 (Conv2D)            (None, 15, 15, 64)        18496     \n",
      "_________________________________________________________________\n",
      "conv2d_4 (Conv2D)            (None, 13, 13, 64)        36928     \n",
      "_________________________________________________________________\n",
      "max_pooling2d_2 (MaxPooling2 (None, 6, 6, 64)          0         \n",
      "_________________________________________________________________\n",
      "flatten_1 (Flatten)          (None, 2304)              0         \n",
      "_________________________________________________________________\n",
      "dense_1 (Dense)              (None, 512)               1180160   \n",
      "_________________________________________________________________\n",
      "dropout_2 (Dropout)          (None, 512)               0         \n",
      "_________________________________________________________________\n",
      "dense_2 (Dense)              (None, 10)                5130      \n",
      "=================================================================\n",
      "Total params: 1,250,858\n",
      "Trainable params: 1,250,858\n",
      "Non-trainable params: 0\n",
      "_________________________________________________________________\n",
      "None\n"
     ]
    }
   ],
   "source": [
    "model = Sequential()\n",
    "\n",
    "model.add(Conv2D(32 , (3,3) , input_shape = input_shape , activation = 'relu' , padding = 'same'))\n",
    "model.add(Conv2D(32 , (3,3) , activation = 'relu'))\n",
    "model.add(MaxPooling2D(pool_size = (2,2)))\n",
    "model.add(Dropout(0.3))\n",
    "model.add(Conv2D(64 , (3,3) , activation = 'relu' , padding = 'same'))\n",
    "model.add(Conv2D(64 , (3,3) , activation = 'relu'))\n",
    "model.add(MaxPooling2D(pool_size = (2,2)))\n",
    "model.add(Flatten())\n",
    "model.add(Dense(512 , activation = 'relu' ))\n",
    "model.add(Dropout(0.5))\n",
    "model.add(Dense(num_classes , activation = 'relu'))\n",
    "\n",
    "opt = keras.optimizers.rmsprop(lr = 0.0001 , decay = 1e-6)\n",
    "\n",
    "model.compile(loss = 'categorical_crossentropy' , optimizer = RMSprop(lr= 0.001) , metrics =['accuracy'])\n",
    "\n",
    "print(model.summary())\n",
    "\n",
    "checkpoint = ModelCheckpoint('C:\\\\Users\\\\Zahid\\\\Desktop\\\\Deep Learning\\\\',\n",
    "                            monitor = 'val_loss',\n",
    "                            mode = 'min',\n",
    "                            save_best_only = True ,\n",
    "                            verbose = 1)\n",
    "\n",
    "\n",
    "reduce_lr  = ReduceLROnPlateau(monitor = 'val_loss' , factor = 0.2 , patience = 3 , verbose = 1 , min_delta = 0.0001)\n",
    "earlystop = EarlyStopping(monitor = 'val_loss' , \n",
    "                         min_delta = 0, #abs value minimum change required before stopping\n",
    "                        patience = 3, #number of epochs to wait before stopping\n",
    "                        verbose = 1,\n",
    "                         restore_best_weights = True)\n",
    "\n",
    "callbacks = [ checkpoint ,reduce_lr]"
   ]
  },
  {
   "cell_type": "code",
   "execution_count": null,
   "metadata": {},
   "outputs": [
    {
     "name": "stdout",
     "output_type": "stream",
     "text": [
      "Train on 50000 samples, validate on 10000 samples\n",
      "Epoch 1/20\n",
      "50000/50000 [==============================] - 352s 7ms/step - loss: nan - acc: 0.2585 - val_loss: nan - val_acc: 0.1000\n",
      "\n",
      "Epoch 00001: val_loss did not improve from 2.14240\n",
      "Epoch 2/20\n",
      "   32/50000 [..............................] - ETA: 4:48 - loss: nan - acc: 0.1250"
     ]
    },
    {
     "name": "stderr",
     "output_type": "stream",
     "text": [
      "C:\\ProgramData\\Anaconda3\\lib\\site-packages\\keras\\callbacks.py:816: RuntimeWarning: invalid value encountered in less\n",
      "  if self.monitor_op(current - self.min_delta, self.best):\n",
      "C:\\ProgramData\\Anaconda3\\lib\\site-packages\\keras\\callbacks.py:709: RuntimeWarning: invalid value encountered in less\n",
      "  if self.monitor_op(current, self.best):\n",
      "C:\\ProgramData\\Anaconda3\\lib\\site-packages\\keras\\callbacks.py:1360: RuntimeWarning: invalid value encountered in less\n",
      "  self.monitor_op = lambda a, b: np.less(a, b - self.min_delta)\n"
     ]
    },
    {
     "name": "stdout",
     "output_type": "stream",
     "text": [
      "40352/50000 [=======================>......] - ETA: 1:03 - loss: nan - acc: 0.1001"
     ]
    }
   ],
   "source": [
    "import pickle\n",
    "\n",
    "\n",
    "trained_model = model.fit(x_train , y_train , batch_size = batch_size , epochs = 20  , validation_data = (x_test , y_test), shuffle = True , verbose = 1 , callbacks = callbacks)\n",
    "\n",
    "pickle_out = r'C:\\Users\\Zahid\\Desktop\\Deep Learning\\image_classifier_cifar10.pickle'\n",
    "pickle.dump(trained_model.history , pickle_out)\n",
    "pickle_out.close()\n",
    "model.save('C:\\\\Users\\\\Zahid\\\\Desktop\\\\Deep Learning\\\\cifar10_model.h5')\n",
    "scores = model.evaluate(x_test , y_test , verbose = 1)\n",
    "print(\"test loss\" + scores[0])\n",
    "print('test accuracy' + scores[1])"
   ]
  },
  {
   "cell_type": "code",
   "execution_count": null,
   "metadata": {},
   "outputs": [],
   "source": []
  },
  {
   "cell_type": "code",
   "execution_count": null,
   "metadata": {},
   "outputs": [],
   "source": []
  }
 ],
 "metadata": {
  "colab": {
   "name": "Image Classifier on CIFAR10.ipynb",
   "provenance": [],
   "version": "0.3.2"
  },
  "kernelspec": {
   "display_name": "Python 3",
   "language": "python",
   "name": "python3"
  },
  "language_info": {
   "codemirror_mode": {
    "name": "ipython",
    "version": 3
   },
   "file_extension": ".py",
   "mimetype": "text/x-python",
   "name": "python",
   "nbconvert_exporter": "python",
   "pygments_lexer": "ipython3",
   "version": "3.7.1"
  }
 },
 "nbformat": 4,
 "nbformat_minor": 1
}
